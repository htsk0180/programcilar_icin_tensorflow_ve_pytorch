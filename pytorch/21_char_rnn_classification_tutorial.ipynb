{
  "cells": [
    {
      "cell_type": "code",
      "execution_count": null,
      "metadata": {
        "id": "yt2GO1kWizS2"
      },
      "outputs": [],
      "source": [
        "%matplotlib inline"
      ]
    },
    {
      "cell_type": "markdown",
      "metadata": {
        "id": "m3zhqCs0izS-"
      },
      "source": [
        "\n",
        "# Sıfırdan NLP: İsimleri Karakter Düzeyinde RNN ile Sınıflandırma\n",
        "\n",
        "Bu bölümde kelimeleri sınıflandırmak için temel karakter düzeyinde bir RNN oluşturacak ve eğiteceğiz. \n",
        "`torchtext`i kullanarak \"sıfırdan\" ön işleme, özellikleri kullanma vs. gibi en basic işlemleri sağlayacağız.\n",
        "\n",
        "Karakter düzeyinde bir RNN, kelimeleri bir dizi karakter olarak okur -\n",
        "her adımda bir karakter tahmini üretir.\n",
        "::\n",
        "\n",
        "    $ python predict.py Hinton\n",
        "    (-0.47) Scottish\n",
        "    (-1.52) English\n",
        "    (-3.57) Irish\n",
        "\n",
        "    $ python predict.py Schmidhuber\n",
        "    (-0.19) German\n",
        "    (-2.48) Czech\n",
        "    (-2.68) Dutch\n",
        "\n",
        "\n",
        "**Önerilen Kaynaklar:**\n",
        "\n",
        "I assume you have at least installed PyTorch, know Python, and\n",
        "understand Tensors:\n",
        "\n",
        "-  https://pytorch.org/ eğer google colab kullanmıyorsanız pytorch kurulumu için siteyi kontrol edebilirsiniz.\n",
        "\n",
        "-  `/beginner/deep_learning_60min_blitz` genel olarak PyTorch'a başlamak için\n",
        "-  `/beginner/pytorch_with_examples` geniş ve derin bir genel bakış için\n",
        "-  `/beginner/former_torchies_tutorial` eski Lua Torch kullanıcısıysanız\n",
        "\n",
        "RNN'ler ve nasıl çalıştıkları hakkında bilgi sahibi olmak içinse aşağıdaki kaynaklar yararlı olacaktır:\n",
        "\n",
        "-  [The Unreasonable Effectiveness of Recurrent Neural\n",
        "   Networks](https://karpathy.github.io/2015/05/21/rnn-effectiveness/)\n",
        "   \n",
        "-  [Understanding LSTM\n",
        "   Networks](https://colah.github.io/posts/2015-08-Understanding-LSTMs/)\n",
        "\n",
        "## Verilerin Hazırlanması\n",
        "\n",
        "..Not::\n",
        "   Verileri şu adresten indirin:\n",
        "   [adres](https://download.pytorch.org/tutorial/data.zip)\n",
        "  ve geçerli dizine çıkartın.\n",
        "\n",
        "``data/names`` dizininde şu şekilde adlandırılan 18 metin dosyası bulunur:\n",
        "\"[Language].txt\". Her dosyada bir ad olmak üzere bir grup ad içerir.\n",
        "Satır, çoğunlukla romanlaştırılmış (ancak yine de Unicode'dan Unicode'a dönüştürmemiz gerekiyor).\n",
        "\n",
        "Her dil için bir isim listesi sözlüğü elde edeceğiz,\n",
        "``{language: [names ...]}``. Genel değişkenler \"kategori\" ve \"satır\"\n",
        "(bizim durumumuzda dil ve isim için) daha sonra genişletilebilirlik için kullanılır.\n"
      ]
    },
    {
      "cell_type": "code",
      "execution_count": 1,
      "metadata": {
        "id": "o0g6rKTPizTD",
        "colab": {
          "base_uri": "https://localhost:8080/"
        },
        "outputId": "fd627172-73a5-4873-e868-a468c780aeb3"
      },
      "outputs": [
        {
          "output_type": "stream",
          "name": "stdout",
          "text": [
            "['data/names/Chinese.txt', 'data/names/Scottish.txt', 'data/names/Irish.txt', 'data/names/Arabic.txt', 'data/names/Greek.txt', 'data/names/Czech.txt', 'data/names/French.txt', 'data/names/English.txt', 'data/names/Japanese.txt', 'data/names/Polish.txt', 'data/names/Russian.txt', 'data/names/Portuguese.txt', 'data/names/Dutch.txt', 'data/names/German.txt', 'data/names/Vietnamese.txt', 'data/names/Spanish.txt', 'data/names/Italian.txt', 'data/names/Korean.txt']\n",
            "Slusarski\n"
          ]
        }
      ],
      "source": [
        "from __future__ import unicode_literals, print_function, division\n",
        "from io import open\n",
        "import glob\n",
        "import os\n",
        "\n",
        "def findFiles(path): return glob.glob(path)\n",
        "\n",
        "print(findFiles('data/names/*.txt'))\n",
        "\n",
        "import unicodedata\n",
        "import string\n",
        "\n",
        "all_letters = string.ascii_letters + \" .,;'\"\n",
        "n_letters = len(all_letters)\n",
        "\n",
        "# Bir Unicode dizesini düz ASCII'ye çevirin, teşekkürler :) ---> https://stackoverflow.com/a/518232/2809427\n",
        "def unicodeToAscii(s):\n",
        "    return ''.join(\n",
        "        c for c in unicodedata.normalize('NFD', s)\n",
        "        if unicodedata.category(c) != 'Mn'\n",
        "        and c in all_letters\n",
        "    )\n",
        "\n",
        "print(unicodeToAscii('Ślusàrski'))\n",
        "\n",
        "# Her dil için bir ad listesi olan Category_lines sözlüğünü oluşturun\n",
        "category_lines = {}\n",
        "all_categories = []\n",
        "\n",
        "# Bir dosyayı okuyun ve satırlara bölün\n",
        "def readLines(filename):\n",
        "    lines = open(filename, encoding='utf-8').read().strip().split('\\n')\n",
        "    return [unicodeToAscii(line) for line in lines]\n",
        "\n",
        "for filename in findFiles('data/names/*.txt'):\n",
        "    category = os.path.splitext(os.path.basename(filename))[0]\n",
        "    all_categories.append(category)\n",
        "    lines = readLines(filename)\n",
        "    category_lines[category] = lines\n",
        "\n",
        "n_categories = len(all_categories)"
      ]
    },
    {
      "cell_type": "markdown",
      "metadata": {
        "id": "tCjpFm6lizTH"
      },
      "source": [
        "Şimdi, her kategoriyi (dili) satırlar (adlar) listesine eşleyen bir sözlük olan Category_lines'a sahibiz. Ayrıca all_categories (yalnızca bir dil listesi) ve n_categories'i daha sonra başvurmak üzere takip ettik.\n",
        "\n"
      ]
    },
    {
      "cell_type": "code",
      "execution_count": 2,
      "metadata": {
        "id": "dNp1oRhkizTI",
        "colab": {
          "base_uri": "https://localhost:8080/"
        },
        "outputId": "e2b67109-9be4-4487-9389-4dff60839b20"
      },
      "outputs": [
        {
          "output_type": "stream",
          "name": "stdout",
          "text": [
            "['Abandonato', 'Abatangelo', 'Abatantuono', 'Abate', 'Abategiovanni']\n"
          ]
        }
      ],
      "source": [
        "print(category_lines['Italian'][:5])"
      ]
    },
    {
      "cell_type": "markdown",
      "metadata": {
        "id": "lXlmnq-BizTI"
      },
      "source": [
        "### İsimleri Tensörlere Dönüştürmek\n",
        "\n",
        "Artık tüm isimleri organize ettiğimize göre, onları tensörlere dönüştürmemiz gerekiyor. Biliyorsunuz ki bu işler sayısal veri tipleri ile yapılır.\n",
        "\n",
        "\n",
        "Tek bir harfi temsil etmek için, boyutta bir \"tek sıcak vektör\" kullanırız.\n",
        "``<1 x n_letters>``. Bir sıcak vektör, 1 dışında 0'larla doldurulur.\n",
        "geçerli harfin dizininde, örneğin: ``\"b\" = <0 1 0 0 0 ...>``.\n",
        "\n",
        "Bir kelime yapmak için bunlardan bir demetini 2B matriste birleştiriyoruz.\n",
        "``<line_length x 1 x n_letters>``.\n",
        "\n",
        "Bu ekstra 1 boyutun nedeni, PyTorch'un her şeyin içinde olduğunu varsaymasıdır.\n",
        "batches  - burada sadece 1 parti boyutunu kullanıyoruz.\n",
        "\n"
      ]
    },
    {
      "cell_type": "code",
      "execution_count": 3,
      "metadata": {
        "id": "dD6R9S0XizTJ",
        "colab": {
          "base_uri": "https://localhost:8080/"
        },
        "outputId": "af13982f-73de-423c-8286-54eddf37ac4f"
      },
      "outputs": [
        {
          "output_type": "stream",
          "name": "stdout",
          "text": [
            "tensor([[0., 0., 0., 0., 0., 0., 0., 0., 0., 0., 0., 0., 0., 0., 0., 0., 0., 0.,\n",
            "         0., 0., 0., 0., 0., 0., 0., 0., 0., 0., 0., 0., 0., 0., 0., 0., 0., 1.,\n",
            "         0., 0., 0., 0., 0., 0., 0., 0., 0., 0., 0., 0., 0., 0., 0., 0., 0., 0.,\n",
            "         0., 0., 0.]])\n",
            "torch.Size([5, 1, 57])\n"
          ]
        }
      ],
      "source": [
        "import torch\n",
        "\n",
        "# all_letters'tan harf indeksini bulun, örneğin: \"a\" = 0\n",
        "def letterToIndex(letter):\n",
        "    return all_letters.find(letter)\n",
        "\n",
        "#  <1 x n_letters> Tensor\n",
        "def letterToTensor(letter):\n",
        "    tensor = torch.zeros(1, n_letters)\n",
        "    tensor[0][letterToIndex(letter)] = 1\n",
        "    return tensor\n",
        "\n",
        "#  <line_length x 1 x n_letters>,\n",
        "#  one-hot letter vectors\n",
        "def lineToTensor(line):\n",
        "    tensor = torch.zeros(len(line), 1, n_letters)\n",
        "    for li, letter in enumerate(line):\n",
        "        tensor[li][0][letterToIndex(letter)] = 1\n",
        "    return tensor\n",
        "\n",
        "print(letterToTensor('J'))\n",
        "\n",
        "print(lineToTensor('Jones').size())"
      ]
    },
    {
      "cell_type": "markdown",
      "metadata": {
        "id": "oQhYqOTFizTL"
      },
      "source": [
        "## Ağı Oluşturalım\n"
      ]
    },
    {
      "cell_type": "code",
      "execution_count": 4,
      "metadata": {
        "id": "4an6Q5ySizTM"
      },
      "outputs": [],
      "source": [
        "import torch.nn as nn\n",
        "\n",
        "class RNN(nn.Module):\n",
        "    def __init__(self, input_size, hidden_size, output_size):\n",
        "        super(RNN, self).__init__()\n",
        "\n",
        "        self.hidden_size = hidden_size\n",
        "\n",
        "        self.i2h = nn.Linear(input_size + hidden_size, hidden_size)\n",
        "        self.i2o = nn.Linear(input_size + hidden_size, output_size)\n",
        "        self.softmax = nn.LogSoftmax(dim=1)\n",
        "\n",
        "    def forward(self, input, hidden):\n",
        "        combined = torch.cat((input, hidden), 1)\n",
        "        hidden = self.i2h(combined)\n",
        "        output = self.i2o(combined)\n",
        "        output = self.softmax(output)\n",
        "        return output, hidden\n",
        "\n",
        "    def initHidden(self):\n",
        "        return torch.zeros(1, self.hidden_size)\n",
        "\n",
        "n_hidden = 128\n",
        "rnn = RNN(n_letters, n_hidden, n_categories)"
      ]
    },
    {
      "cell_type": "markdown",
      "metadata": {
        "id": "MDhR-7PJizTN"
      },
      "source": [
        "Bu ağın bir adımını çalıştırmak için bir girişi (bizim durumumuzda, geçerli harf için Tensör) ve önceki bir gizli durumu (ilk başta sıfır olarak başlattığımız) geçirmemiz gerekir. Çıktıyı (her dilin olasılığı) ve bir sonraki gizli durumu (bir sonraki adım için saklıyoruz) geri alacağız.\n",
        "\n"
      ]
    },
    {
      "cell_type": "code",
      "execution_count": 6,
      "metadata": {
        "id": "G_bWIxtXizTO"
      },
      "outputs": [],
      "source": [
        "input = letterToTensor('A')\n",
        "hidden = torch.zeros(1, n_hidden)\n",
        "\n",
        "output, next_hidden = rnn(input, hidden)"
      ]
    },
    {
      "cell_type": "markdown",
      "metadata": {
        "id": "HB2m9qevizTP"
      },
      "source": [
        "Verimlilik adına her adım için yeni bir Tensör oluşturmak istemiyoruz, bu nedenle `letterToTensor` yerine `lineToTensor` kullanacağız ve dilimler kullanacağız. Bu, Tensör gruplarının önceden hesaplanmasıyla daha da optimize edilebilir.\n",
        "\n",
        "\n"
      ]
    },
    {
      "cell_type": "code",
      "execution_count": 7,
      "metadata": {
        "id": "UKmR8Q9cizTP",
        "colab": {
          "base_uri": "https://localhost:8080/"
        },
        "outputId": "b1b451f7-a7aa-493a-a08f-0401a7c70f35"
      },
      "outputs": [
        {
          "output_type": "stream",
          "name": "stdout",
          "text": [
            "tensor([[-2.9635, -2.9190, -2.8588, -2.8515, -2.8718, -2.8580, -2.8457, -2.7812,\n",
            "         -2.9625, -2.9836, -2.8698, -2.9475, -2.9710, -2.8928, -2.8519, -2.8365,\n",
            "         -2.9297, -2.8594]], grad_fn=<LogSoftmaxBackward0>)\n"
          ]
        }
      ],
      "source": [
        "input = lineToTensor('Albert')\n",
        "hidden = torch.zeros(1, n_hidden)\n",
        "\n",
        "output, next_hidden = rnn(input[0], hidden)\n",
        "print(output)"
      ]
    },
    {
      "cell_type": "markdown",
      "metadata": {
        "id": "3oPaw4WrizTQ"
      },
      "source": [
        "Gördüğünüz gibi çıktı bir <1 x n_categories> Tensörüdür, burada her öğe o kategorinin olasılığıdır.\n",
        "\n",
        "\n"
      ]
    },
    {
      "cell_type": "markdown",
      "metadata": {
        "id": "P_ffrUEzizTQ"
      },
      "source": [
        "## Eğitim\n",
        "Eğitime Hazırlanmak\n",
        "----------------------\n",
        "\n",
        "Eğitime geçmeden önce birkaç yardımcı fonksiyon yapmalıyız.\n",
        "Örneğin çıkan tensörden en büyük değeri alarak hangi kategoriye ait olduğunu bulmak gibi.\n",
        "\n",
        "\n"
      ]
    },
    {
      "cell_type": "code",
      "execution_count": 8,
      "metadata": {
        "id": "UXnNo2z_izTR",
        "colab": {
          "base_uri": "https://localhost:8080/"
        },
        "outputId": "114a1526-e446-4b10-b137-661c69403247"
      },
      "outputs": [
        {
          "output_type": "stream",
          "name": "stdout",
          "text": [
            "('English', 7)\n"
          ]
        }
      ],
      "source": [
        "def categoryFromOutput(output):\n",
        "    top_n, top_i = output.topk(1)\n",
        "    category_i = top_i[0].item()\n",
        "    return all_categories[category_i], category_i\n",
        "\n",
        "print(categoryFromOutput(output))"
      ]
    },
    {
      "cell_type": "markdown",
      "metadata": {
        "id": "sJK5ofUQizTR"
      },
      "source": [
        "Ayrıca bir eğitim örneği almanın hızlı bir yolununu yapalım."
      ]
    },
    {
      "cell_type": "code",
      "execution_count": 9,
      "metadata": {
        "id": "KtpQYWAYizTS",
        "colab": {
          "base_uri": "https://localhost:8080/"
        },
        "outputId": "a1feaf0e-fb8f-4753-f048-ee8f2cacf626"
      },
      "outputs": [
        {
          "output_type": "stream",
          "name": "stdout",
          "text": [
            "category = Korean / line = Baik\n",
            "category = Korean / line = Han\n",
            "category = Dutch / line = Peter\n",
            "category = Scottish / line = Jones\n",
            "category = Spanish / line = Ruiz\n",
            "category = Czech / line = Rzehak\n",
            "category = Arabic / line = Hakimi\n",
            "category = Spanish / line = Varela\n",
            "category = Vietnamese / line = Luc\n",
            "category = Polish / line = Starek\n"
          ]
        }
      ],
      "source": [
        "import random\n",
        "\n",
        "def randomChoice(l):\n",
        "    return l[random.randint(0, len(l) - 1)]\n",
        "\n",
        "def randomTrainingExample():\n",
        "    category = randomChoice(all_categories)\n",
        "    line = randomChoice(category_lines[category])\n",
        "    category_tensor = torch.tensor([all_categories.index(category)], dtype=torch.long)\n",
        "    line_tensor = lineToTensor(line)\n",
        "    return category, line, category_tensor, line_tensor\n",
        "\n",
        "for i in range(10):\n",
        "    category, line, category_tensor, line_tensor = randomTrainingExample()\n",
        "    print('category =', category, '/ line =', line)"
      ]
    },
    {
      "cell_type": "markdown",
      "metadata": {
        "id": "tmpK4-s0izTT"
      },
      "source": [
        "### Ağı Eğitelim\n",
        "\n",
        "Şimdi bu ağı eğitmek için gereken tek şey ona bir dizi örnek göstermek,\n",
        "tahminlerde bulunmasını sağlayalım, loss'u hesaplayalım. BP ile hatalarımızı geri yayalım ve hata değerinin giriş değerlerine göre türevini hesaplayarak ağırlık ve bias değerlerimizi güncelleyelim. ( Bu kadar uzun ve iki kez aynı şeyi yazdığımın farkındayım :) kısaca BP -BackProb yapacağız. )\n",
        "\n",
        "Kayıp işlevi için ``nn.NLLLoss`` uygundur, çünkü son\n",
        "RNN'nin katmanı ``nn.LogSoftmax`` şeklindedir.\n",
        "\n",
        "\n"
      ]
    },
    {
      "cell_type": "code",
      "execution_count": 10,
      "metadata": {
        "id": "JR0M9GEpizTT"
      },
      "outputs": [],
      "source": [
        "criterion = nn.NLLLoss()"
      ]
    },
    {
      "cell_type": "markdown",
      "metadata": {
        "id": "YcV1pHGmizTU"
      },
      "source": [
        "Her eğitim döngüsü şunları yapacaktır:\n",
        "\n",
        "- Giriş ve hedef tensörler oluşturun\n",
        "- Sıfırlanmış bir ilk gizli durum oluşturun\n",
        "- Her harfi oku ve\n",
        "\n",
        "    - Bir sonraki harf için gizli durumu koru\n",
        "\n",
        "- Nihai çıktıyı hedefle karşılaştırın\n",
        "- Geri yayılma\n",
        "- Çıktıyı ve kaybı ağa yayın.\n",
        "\n"
      ]
    },
    {
      "cell_type": "code",
      "execution_count": 12,
      "metadata": {
        "id": "2TEgJytKizTV"
      },
      "outputs": [],
      "source": [
        "learning_rate = 0.005 # Bunu çok yükseğe ayarlarsanız gradyan patmalası yaşanılabilir.. Çok düşükse, öğrenemeyebilir ya da ağın öğrenmesi çok yavaş olur. Buna da kaybolan gradyan sorunu denir.\n",
        "\n",
        "def train(category_tensor, line_tensor):\n",
        "    hidden = rnn.initHidden()\n",
        "\n",
        "    rnn.zero_grad()\n",
        "\n",
        "    for i in range(line_tensor.size()[0]):\n",
        "        output, hidden = rnn(line_tensor[i], hidden)\n",
        "\n",
        "    loss = criterion(output, category_tensor)\n",
        "    loss.backward()\n",
        "\n",
        "    # Parametrelerin gradyanlarını öğrenme oranıyla çarparak değerlerine ekleyin, yani ağırlıkları güncelleyelim.\n",
        "    for p in rnn.parameters():\n",
        "        p.data.add_(p.grad.data, alpha=-learning_rate)\n",
        "\n",
        "    return output, loss.item()"
      ]
    },
    {
      "cell_type": "markdown",
      "metadata": {
        "id": "8xBipqHXizTW"
      },
      "source": [
        "Şimdi bunu bir dizi örnekle çalıştırmamız gerekiyor. Train işlevi hem çıktıyı hem de kaybı döndürdüğünden, tahminlerini yazdırabilir ve ayrıca çizim için kaybı takip edebiliriz. 1000'lerce örnek olduğu için sadece her print_every örneğini yazdırıyoruz ve kaybın ortalamasını alıyoruz.\n",
        "\n"
      ]
    },
    {
      "cell_type": "code",
      "execution_count": 13,
      "metadata": {
        "id": "jVD6jdsqizTW",
        "colab": {
          "base_uri": "https://localhost:8080/"
        },
        "outputId": "21e8613c-d525-4022-c785-cec23d9adf3f"
      },
      "outputs": [
        {
          "output_type": "stream",
          "name": "stdout",
          "text": [
            "5000 5% (0m 7s) 3.2303 Schwartz / French ✗ (German)\n",
            "10000 10% (0m 13s) 2.5758 Crawford / French ✗ (Scottish)\n",
            "15000 15% (0m 19s) 1.9490 Rodagh / Irish ✓\n",
            "20000 20% (0m 26s) 2.8189 Salinas / Greek ✗ (Spanish)\n",
            "25000 25% (0m 32s) 0.4954 Kojima / Japanese ✓\n",
            "30000 30% (0m 39s) 2.8771 Buffone / French ✗ (Italian)\n",
            "35000 35% (0m 44s) 1.3440 Tansley / English ✓\n",
            "40000 40% (0m 51s) 2.5129 Armistead / Scottish ✗ (French)\n",
            "45000 45% (0m 57s) 0.4424 Haddad / Arabic ✓\n",
            "50000 50% (1m 4s) 1.6885 Kolijn / Dutch ✓\n",
            "55000 55% (1m 10s) 0.1304 Robertson / Scottish ✓\n",
            "60000 60% (1m 17s) 0.6720 Ramirez / Spanish ✓\n",
            "65000 65% (1m 23s) 2.1541 Gagne / Irish ✗ (French)\n",
            "70000 70% (1m 30s) 0.5167 Lian / Chinese ✓\n",
            "75000 75% (1m 35s) 2.9034 Falk / Czech ✗ (German)\n",
            "80000 80% (1m 42s) 0.3658 Akechi / Japanese ✓\n",
            "85000 85% (1m 48s) 0.6547 Ferguson / Scottish ✓\n",
            "90000 90% (1m 54s) 1.7058 Orbell / English ✓\n",
            "95000 95% (2m 1s) 0.1680 Abeldyaev / Russian ✓\n",
            "100000 100% (2m 7s) 0.1447 De la fontaine / French ✓\n"
          ]
        }
      ],
      "source": [
        "import time\n",
        "import math\n",
        "\n",
        "n_iters = 100000\n",
        "print_every = 5000\n",
        "plot_every = 1000\n",
        "\n",
        "\n",
        "\n",
        "# Çizim için kayıpları takip edin\n",
        "current_loss = 0\n",
        "all_losses = []\n",
        "\n",
        "def timeSince(since):\n",
        "    now = time.time()\n",
        "    s = now - since\n",
        "    m = math.floor(s / 60)\n",
        "    s -= m * 60\n",
        "    return '%dm %ds' % (m, s)\n",
        "\n",
        "start = time.time()\n",
        "\n",
        "for iter in range(1, n_iters + 1):\n",
        "    category, line, category_tensor, line_tensor = randomTrainingExample()\n",
        "    output, loss = train(category_tensor, line_tensor)\n",
        "    current_loss += loss\n",
        "\n",
        "    # Iter numarasını, kaybı, adı ve tahmini yazdırın\n",
        "    if iter % print_every == 0:\n",
        "        guess, guess_i = categoryFromOutput(output)\n",
        "        correct = '✓' if guess == category else '✗ (%s)' % category\n",
        "        print('%d %d%% (%s) %.4f %s / %s %s' % (iter, iter / n_iters * 100, timeSince(start), loss, line, guess, correct))\n",
        "\n",
        "    # Kayıplar listesine toplam kayıp ortalamasını ekle\n",
        "    if iter % plot_every == 0:\n",
        "        all_losses.append(current_loss / plot_every)\n",
        "        current_loss = 0"
      ]
    },
    {
      "cell_type": "markdown",
      "metadata": {
        "id": "CzCOpJkoizTY"
      },
      "source": [
        "### Sonuçların Çizilmesi\n",
        "\n",
        "``all_losses``tan geçmiş kaybın çizilmesi, ağın öğrenme durumunu gösterir.\n",
        "\n"
      ]
    },
    {
      "cell_type": "code",
      "execution_count": 14,
      "metadata": {
        "id": "hlBqEV8vizTY",
        "colab": {
          "base_uri": "https://localhost:8080/",
          "height": 282
        },
        "outputId": "e55472aa-acb1-4e97-8725-2619fece72b8"
      },
      "outputs": [
        {
          "output_type": "execute_result",
          "data": {
            "text/plain": [
              "[<matplotlib.lines.Line2D at 0x7fddbd1857f0>]"
            ]
          },
          "metadata": {},
          "execution_count": 14
        },
        {
          "output_type": "display_data",
          "data": {
            "text/plain": [
              "<Figure size 432x288 with 1 Axes>"
            ],
            "image/png": "[encoded data removed]"
          },
          "metadata": {
            "needs_background": "light"
          }
        }
      ],
      "source": [
        "import matplotlib.pyplot as plt\n",
        "import matplotlib.ticker as ticker\n",
        "\n",
        "plt.figure()\n",
        "plt.plot(all_losses)"
      ]
    },
    {
      "cell_type": "markdown",
      "metadata": {
        "id": "yW_Hu1vuizTZ"
      },
      "source": [
        "## Sonuçların Değerlendirilmesi\n"
      ]
    },
    {
      "cell_type": "code",
      "execution_count": 15,
      "metadata": {
        "id": "PcIxRC2sizTZ",
        "colab": {
          "base_uri": "https://localhost:8080/",
          "height": 389
        },
        "outputId": "7e6af18f-65a8-468f-fe1d-5a4eb7a9a477"
      },
      "outputs": [
        {
          "output_type": "stream",
          "name": "stderr",
          "text": [
            "<ipython-input-15-a0fe762f1796>:31: UserWarning: FixedFormatter should only be used together with FixedLocator\n",
            "  ax.set_xticklabels([''] + all_categories, rotation=90)\n",
            "<ipython-input-15-a0fe762f1796>:32: UserWarning: FixedFormatter should only be used together with FixedLocator\n",
            "  ax.set_yticklabels([''] + all_categories)\n"
          ]
        },
        {
          "output_type": "display_data",
          "data": {
            "text/plain": [
              "<Figure size 432x288 with 2 Axes>"
            ],
            "image/png": "[encoded data removed]"
          },
          "metadata": {
            "needs_background": "light"
          }
        }
      ],
      "source": [
        "# Bir karışıklık matrisinde doğru tahminleri takip edin\n",
        "confusion = torch.zeros(n_categories, n_categories)\n",
        "n_confusion = 10000\n",
        "\n",
        "# Sadece bir satır verilen bir çıktı döndürün\n",
        "def evaluate(line_tensor):\n",
        "    hidden = rnn.initHidden()\n",
        "\n",
        "    for i in range(line_tensor.size()[0]):\n",
        "        output, hidden = rnn(line_tensor[i], hidden)\n",
        "\n",
        "    return output\n",
        "\n",
        "# Bir dizi örneği gözden geçirin ve doğru tahmin edilenleri kaydedin\n",
        "for i in range(n_confusion):\n",
        "    category, line, category_tensor, line_tensor = randomTrainingExample()\n",
        "    output = evaluate(line_tensor)\n",
        "    guess, guess_i = categoryFromOutput(output)\n",
        "    category_i = all_categories.index(category)\n",
        "    confusion[category_i][guess_i] += 1\n",
        "\n",
        "# Her satırı toplamına bölerek normalleştir\n",
        "for i in range(n_categories):\n",
        "    confusion[i] = confusion[i] / confusion[i].sum()\n",
        "\n",
        "fig = plt.figure()\n",
        "ax = fig.add_subplot(111)\n",
        "cax = ax.matshow(confusion.numpy())\n",
        "fig.colorbar(cax)\n",
        "\n",
        "ax.set_xticklabels([''] + all_categories, rotation=90)\n",
        "ax.set_yticklabels([''] + all_categories)\n",
        "\n",
        "ax.xaxis.set_major_locator(ticker.MultipleLocator(1))\n",
        "ax.yaxis.set_major_locator(ticker.MultipleLocator(1))\n",
        "\n",
        "plt.show()"
      ]
    },
    {
      "cell_type": "markdown",
      "metadata": {
        "id": "GS1YziX5izTa"
      },
      "source": [
        "### Kullanıcıdan alınan bir giriş ile modeli test edelim.\n",
        "\n",
        "\n"
      ]
    },
    {
      "cell_type": "code",
      "execution_count": 16,
      "metadata": {
        "id": "LXkuRFcoizTa",
        "colab": {
          "base_uri": "https://localhost:8080/"
        },
        "outputId": "dcdf0860-5e37-49b6-c49a-4f8bb7c36c9b"
      },
      "outputs": [
        {
          "output_type": "stream",
          "name": "stdout",
          "text": [
            "\n",
            "> Dovesky\n",
            "(-0.82) Russian\n",
            "(-0.93) Czech\n",
            "(-2.34) English\n",
            "\n",
            "> Jackson\n",
            "(-0.71) Scottish\n",
            "(-1.18) English\n",
            "(-2.50) Dutch\n",
            "\n",
            "> Satoshi\n",
            "(-0.61) Japanese\n",
            "(-2.56) Greek\n",
            "(-2.65) Italian\n"
          ]
        }
      ],
      "source": [
        "def predict(input_line, n_predictions=3):\n",
        "    print('\\n> %s' % input_line)\n",
        "    with torch.no_grad():\n",
        "        output = evaluate(lineToTensor(input_line))\n",
        "\n",
        "        topv, topi = output.topk(n_predictions, 1, True)\n",
        "        predictions = []\n",
        "\n",
        "        for i in range(n_predictions):\n",
        "            value = topv[0][i].item()\n",
        "            category_index = topi[0][i].item()\n",
        "            print('(%.2f) %s' % (value, all_categories[category_index]))\n",
        "            predictions.append([value, all_categories[category_index]])\n",
        "\n",
        "predict('Dovesky')\n",
        "predict('Jackson')\n",
        "predict('Satoshi')"
      ]
    }
  ],
  "metadata": {
    "kernelspec": {
      "display_name": "Python 3",
      "language": "python",
      "name": "python3"
    },
    "language_info": {
      "codemirror_mode": {
        "name": "ipython",
        "version": 3
      },
      "file_extension": ".py",
      "mimetype": "text/x-python",
      "name": "python",
      "nbconvert_exporter": "python",
      "pygments_lexer": "ipython3",
      "version": "3.10.9"
    },
    "colab": {
      "provenance": []
    },
    "accelerator": "GPU",
    "gpuClass": "standard"
  },
  "nbformat": 4,
  "nbformat_minor": 0
}