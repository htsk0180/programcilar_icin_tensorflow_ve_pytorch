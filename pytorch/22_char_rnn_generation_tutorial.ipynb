{
  "cells": [
    {
      "cell_type": "code",
      "execution_count": 1,
      "metadata": {
        "id": "VVRnno6GqABe"
      },
      "outputs": [],
      "source": [
        "%matplotlib inline"
      ]
    },
    {
      "cell_type": "markdown",
      "metadata": {
        "id": "UqCQuxWSqABi"
      },
      "source": [
        "\n",
        "# Sıfırdan NLP: Karakter Düzeyinde RNN ile İsimler Oluşturma\n",
        "\n",
        "Bu, \"Sıfırdan NLP\" konulu üç eğitimden ikincisidir.\n",
        "ilk eğitimde `char_rnn_classification_tutorial`\n",
        "isimleri menşei dillerine göre sınıflandırmak için bir RNN kullandık. Şimdi ise\n",
        "geri dönüp dillerden isimler üreteceğiz. İlk eğitime `github.com/htsk0180` adresinden ulaşabilirsiniz.\n",
        "\n",
        "    > python sample.py Russian RUS\n",
        "    Rovakov\n",
        "    Uantov\n",
        "    Shavakov\n",
        "\n",
        "    > python sample.py German GER\n",
        "    Gerren\n",
        "    Ereng\n",
        "    Rosher\n",
        "\n",
        "    > python sample.py Spanish SPA\n",
        "    Salla\n",
        "    Parer\n",
        "    Allan\n",
        "\n",
        "    > python sample.py Chinese CHI\n",
        "    Chan\n",
        "    Hang\n",
        "    Iun\n",
        "\n",
        "Hala birkaç doğrusal katmanla küçük bir RNN yapıyoruz. Büyük\n",
        "fark, tümünü okuduktan sonra bir kategoriyi tahmin etmek yerine\n",
        "Bir ismin harfleri, bir kategori gireriz ve her seferinde bir harf çıkarırız.\n",
        "Dili oluşturmak için karakterleri tekrar tekrar tahmin etme işlemini yapacağız.(bu aynı zamanda\n",
        "kelimelerle veya diğer üst düzey yapılarla yapılan).\n",
        "\n",
        "**Önerilen Kaynaklar:**\n",
        "\n",
        "-  https://pytorch.org/ Kurulum talimatları için,\n",
        "-  `/beginner/deep_learning_60min_blitz` genel olarak PyTorch'a başlamak için,\n",
        "-  `/beginner/pytorch_with_examples` geniş ve derin bir genel bakış için,\n",
        "-  `/beginner/former_torchies_tutorial` eski Lua Torch kullanıcısıysanız\n",
        "yukarıda vermiş olduğum kaynaklara kesinlikle göz atınız.\n",
        "\n",
        "\n",
        "RNN'ler ve nasıl çalıştıkları hakkında bilgi sahibi olmak içinse: \n",
        "\n",
        "-  [The Unreasonable Effectiveness of Recurrent Neural\n",
        "   Networks](https://karpathy.github.io/2015/05/21/rnn-effectiveness/)\n",
        "-  [Understanding LSTM\n",
        "   Networks](https://colah.github.io/posts/2015-08-Understanding-LSTMs/)\n",
        "\n",
        "## Verilerin Hazırlanması\n",
        "\n",
        ".. Not::\n",
        "   Verileri şu adresten indirin,\n",
        "   [veri](https://download.pytorch.org/tutorial/data.zip)\n",
        "   ve geçerli dizine çıkartın.\n",
        "\n",
        "dizin bu şekilde olmalı: ``data/names/[Language].txt`` \n",
        "ve sonrasında veri yapısu bu şekilde olmalı, veri yapısını bu şekle almak için aşağıda bir fonksiyonumuz var merak etmeyin. bu fonksiyonları doğrudan yazabilrsiniz yada ihtiyacınız olduğunda copy/paste yapabilirsiniz. ``{language: [names ...]}``.\n"
      ]
    },
    {
      "cell_type": "code",
      "execution_count": 4,
      "metadata": {
        "id": "rU4aQGLtqABl",
        "colab": {
          "base_uri": "https://localhost:8080/"
        },
        "outputId": "27560d41-5c65-4114-c2fb-ef34eb40d4af"
      },
      "outputs": [
        {
          "output_type": "stream",
          "name": "stdout",
          "text": [
            "# categories: 18 ['Czech', 'Korean', 'Italian', 'Spanish', 'Vietnamese', 'Irish', 'Russian', 'English', 'Japanese', 'Dutch', 'German', 'Chinese', 'Portuguese', 'Greek', 'Polish', 'Arabic', 'Scottish', 'French']\n",
            "O'Neal\n"
          ]
        }
      ],
      "source": [
        "from __future__ import unicode_literals, print_function, division\n",
        "from io import open\n",
        "import glob\n",
        "import os\n",
        "import unicodedata\n",
        "import string\n",
        "\n",
        "all_letters = string.ascii_letters + \" .,;'-\"\n",
        "n_letters = len(all_letters) + 1 # ekstra olarak + işareti.\n",
        "\n",
        "def findFiles(path): return glob.glob(path)\n",
        "\n",
        "# Bir Unicode dizesini düz ASCII'ye çevirin, teşekkürler https://stackoverflow.com/a/518232/2809427\n",
        "def unicodeToAscii(s):\n",
        "    return ''.join(\n",
        "        c for c in unicodedata.normalize('NFD', s)\n",
        "        if unicodedata.category(c) != 'Mn'\n",
        "        and c in all_letters\n",
        "    )\n",
        "\n",
        "# Bir dosyayı okuyun ve satırlara bölün\n",
        "def readLines(filename):\n",
        "    with open(filename, encoding='utf-8') as some_file:\n",
        "        return [unicodeToAscii(line.strip()) for line in some_file]\n",
        "\n",
        "# Category_lines sözlüğünü, kategori başına satırların bir listesini oluşturun\n",
        "category_lines = {}\n",
        "all_categories = []\n",
        "for filename in findFiles('data/names/*.txt'):\n",
        "    category = os.path.splitext(os.path.basename(filename))[0]\n",
        "    all_categories.append(category)\n",
        "    lines = readLines(filename)\n",
        "    category_lines[category] = lines\n",
        "\n",
        "n_categories = len(all_categories)\n",
        "\n",
        "if n_categories == 0:\n",
        "    raise RuntimeError('Veri bulunamadı. Verileri indirdiğinizden emin olun '\n",
        "        'veri adresinden indirebilirsiniz --> https://download.pytorch.org/tutorial/data.zip ve ilgili klasöre veriyi çıkartın ')\n",
        "\n",
        "print('# categories:', n_categories, all_categories)\n",
        "print(unicodeToAscii(\"O'Néàl\"))"
      ]
    },
    {
      "cell_type": "markdown",
      "metadata": {
        "id": "-JiVVIzGqABm"
      },
      "source": [
        "## Ağı Oluşturma\n",
        "\n",
        "\n",
        "\n",
        "Çıktıyı bir sonraki harfin olasılığı olarak yorumlayacağız. en olası çıktı harfi bir sonraki girdi olarak kullanılır. Ve RNN böylece devam edecek, sonrasında ise nihai çıktıya erişeceğiz.\n",
        "\n",
        "[bu makaleye bir göz atın, temel mimarimizde burdaki sezgisel fikirleri ve önerileri kullanacağız.](https://arxiv.org/abs/1207.0580)\n"
      ]
    },
    {
      "cell_type": "code",
      "execution_count": 5,
      "metadata": {
        "id": "MMNGBfOlqABn"
      },
      "outputs": [],
      "source": [
        "import torch\n",
        "import torch.nn as nn\n",
        "\n",
        "class RNN(nn.Module):\n",
        "    def __init__(self, input_size, hidden_size, output_size):\n",
        "        super(RNN, self).__init__()\n",
        "        self.hidden_size = hidden_size\n",
        "\n",
        "        self.i2h = nn.Linear(n_categories + input_size + hidden_size, hidden_size)\n",
        "        self.i2o = nn.Linear(n_categories + input_size + hidden_size, output_size)\n",
        "        self.o2o = nn.Linear(hidden_size + output_size, output_size)\n",
        "        self.dropout = nn.Dropout(0.1)\n",
        "        self.softmax = nn.LogSoftmax(dim=1)\n",
        "\n",
        "    def forward(self, category, input, hidden):\n",
        "        input_combined = torch.cat((category, input, hidden), 1)\n",
        "        hidden = self.i2h(input_combined)\n",
        "        output = self.i2o(input_combined)\n",
        "        output_combined = torch.cat((hidden, output), 1)\n",
        "        output = self.o2o(output_combined)\n",
        "        output = self.dropout(output)\n",
        "        output = self.softmax(output)\n",
        "        return output, hidden\n",
        "\n",
        "    def initHidden(self):\n",
        "        return torch.zeros(1, self.hidden_size)"
      ]
    },
    {
      "cell_type": "code",
      "source": [
        "# model parametrelerini rastgele vererek modelimize göz atalım.\n",
        "model = RNN(128,128,29)\n",
        "print(model)"
      ],
      "metadata": {
        "colab": {
          "base_uri": "https://localhost:8080/"
        },
        "id": "KtCxcgN4xE5Z",
        "outputId": "f8736ff0-e25c-4212-a9de-7f4d4e72e81c"
      },
      "execution_count": 12,
      "outputs": [
        {
          "output_type": "stream",
          "name": "stdout",
          "text": [
            "RNN(\n",
            "  (i2h): Linear(in_features=274, out_features=128, bias=True)\n",
            "  (i2o): Linear(in_features=274, out_features=29, bias=True)\n",
            "  (o2o): Linear(in_features=157, out_features=29, bias=True)\n",
            "  (dropout): Dropout(p=0.1, inplace=False)\n",
            "  (softmax): LogSoftmax(dim=1)\n",
            ")\n"
          ]
        }
      ]
    },
    {
      "cell_type": "markdown",
      "metadata": {
        "id": "hGhPKmY1qABn"
      },
      "source": [
        "## Eğitim\n",
        "Eğitime Hazırlanmak\n",
        "----------------------\n",
        "\n",
        "Her şeyden önce, rastgele çiftleri (kategori, satır) elde etmek için yardımcı işlevleri yazalım\n",
        "\n",
        "\n"
      ]
    },
    {
      "cell_type": "code",
      "execution_count": 13,
      "metadata": {
        "id": "4ktOgyn_qABo"
      },
      "outputs": [],
      "source": [
        "import random\n",
        "\n",
        "# Bir listeden rastgele öğe\n",
        "def randomChoice(l):\n",
        "    return l[random.randint(0, len(l) - 1)]\n",
        "\n",
        "# Rastgele bir kategori ve bu kategoriden rastgele bir satır alın\n",
        "def randomTrainingPair():\n",
        "    category = randomChoice(all_categories)\n",
        "    line = randomChoice(category_lines[category])\n",
        "    return category, line"
      ]
    },
    {
      "cell_type": "markdown",
      "metadata": {
        "id": "Muopcd0WqABo"
      },
      "source": [
        "Her bir zaman adımı için (yani bir eğitim sözcüğündeki her harf için)\n",
        "ağın girişleri olacak\n",
        "``(category, current letter, hidden state)``ve çıktılar olacak\n",
        "``(next letter, next hidden state)``.Yani her eğitim seti için\n",
        "kategoriye, bir dizi giriş harfine ve bir dizi çıktı/hedefe ihtiyacımız var.\n",
        "\n",
        "Her biri için mevcut harften bir sonraki harfi tahmin ettiğimiz için\n",
        "zaman adımında, harf çiftleri ardışık harf gruplarıdır.\n",
        " - örneğin ``\"ABCD<EOS>\"`` için şu şekilde bir eğitim seti oluşturabiliriz. (\"A\", \"B\"), (\"B\", \"C\"),\n",
        "(\"C\", \"D\"), (\"D\", \"EOS\").\n",
        "\n",
        "[one-hot\n",
        "tensor](https://en.wikipedia.org/wiki/One-hot)of size\n",
        "``<1 x n_categories>`` büyüklüğünde one-hot kodlanmış tensörü her seferinde ağımıza besleriz.\n",
        "\n"
      ]
    },
    {
      "cell_type": "code",
      "execution_count": 14,
      "metadata": {
        "id": "biZIQYkeqABo"
      },
      "outputs": [],
      "source": [
        "# Kategori için sıcak vektör\n",
        "def categoryTensor(category):\n",
        "    li = all_categories.index(category)\n",
        "    tensor = torch.zeros(1, n_categories)\n",
        "    tensor[0][li] = 1\n",
        "    return tensor\n",
        "\n",
        "# Giriş için ilk ve son harflerden oluşan tek sıcak matris (EOS hariç)\n",
        "def inputTensor(line):\n",
        "    tensor = torch.zeros(len(line), 1, n_letters)\n",
        "    for li in range(len(line)):\n",
        "        letter = line[li]\n",
        "        tensor[li][0][all_letters.find(letter)] = 1\n",
        "    return tensor\n",
        "\n",
        "# Hedef için ikinci harfin sona ermesi (EOS) LongTensor\n",
        "def targetTensor(line):\n",
        "    letter_indexes = [all_letters.find(line[li]) for li in range(1, len(line))]\n",
        "    letter_indexes.append(n_letters - 1) # EOS\n",
        "    return torch.LongTensor(letter_indexes)"
      ]
    },
    {
      "cell_type": "markdown",
      "metadata": {
        "id": "I47fM0b2qABp"
      },
      "source": [
        "Eğitim sırasında kolaylık sağlamak için bir \"randomTrainingExample\" yapacağız\n",
        "Rastgele (category, line) bir çift getiren ve bunları şuna dönüştüren işlev:(category, input, target)\n",
        "\n"
      ]
    },
    {
      "cell_type": "code",
      "execution_count": 15,
      "metadata": {
        "id": "shN98qklqABp"
      },
      "outputs": [],
      "source": [
        "# Rastgele bir kategori, satır çiftinden kategori, giriş ve hedef tensörler yapın\n",
        "def randomTrainingExample():\n",
        "    category, line = randomTrainingPair()\n",
        "    category_tensor = categoryTensor(category)\n",
        "    input_line_tensor = inputTensor(line)\n",
        "    target_line_tensor = targetTensor(line)\n",
        "    return category_tensor, input_line_tensor, target_line_tensor"
      ]
    },
    {
      "cell_type": "markdown",
      "metadata": {
        "id": "AlT8lsTBqABp"
      },
      "source": [
        "### Ağı Eğitmek\n",
        "\n",
        "Yalnızca son çıktının kullanıldığı sınıflandırmanın aksine,\n",
        "her adımda bir tahmin yapıyoruz, bu nedenle her adımda kaybı hesaplıyoruz.\n",
        "\n",
        "\n",
        "Autogradla bu işlemi yani kayıp sonrası geri yayılımı kolaylıkla hesaplayabiliriz.\n",
        "\n",
        "\n"
      ]
    },
    {
      "cell_type": "code",
      "execution_count": 16,
      "metadata": {
        "id": "zGGJqOVfqABp"
      },
      "outputs": [],
      "source": [
        "criterion = nn.NLLLoss()\n",
        "\n",
        "learning_rate = 0.0005\n",
        "\n",
        "def train(category_tensor, input_line_tensor, target_line_tensor):\n",
        "    target_line_tensor.unsqueeze_(-1)\n",
        "    hidden = rnn.initHidden()\n",
        "\n",
        "    rnn.zero_grad()\n",
        "\n",
        "    loss = 0\n",
        "\n",
        "    for i in range(input_line_tensor.size(0)):\n",
        "        output, hidden = rnn(category_tensor, input_line_tensor[i], hidden)\n",
        "        l = criterion(output, target_line_tensor[i])\n",
        "        loss += l\n",
        "\n",
        "    loss.backward()\n",
        "\n",
        "    for p in rnn.parameters():\n",
        "        p.data.add_(p.grad.data, alpha=-learning_rate)\n",
        "\n",
        "    return output, loss.item() / input_line_tensor.size(0)"
      ]
    },
    {
      "cell_type": "code",
      "execution_count": 17,
      "metadata": {
        "id": "parkA4VFqABq"
      },
      "outputs": [],
      "source": [
        "import time\n",
        "import math\n",
        "\n",
        "def timeSince(since):\n",
        "    now = time.time()\n",
        "    s = now - since\n",
        "    m = math.floor(s / 60)\n",
        "    s -= m * 60\n",
        "    return '%dm %ds' % (m, s)"
      ]
    },
    {
      "cell_type": "code",
      "execution_count": 18,
      "metadata": {
        "id": "byho62MaqABq",
        "colab": {
          "base_uri": "https://localhost:8080/"
        },
        "outputId": "64f19946-f073-4e5d-975c-0333544b3e21"
      },
      "outputs": [
        {
          "output_type": "stream",
          "name": "stdout",
          "text": [
            "0m 16s (5000 5%) 2.2681\n",
            "0m 32s (10000 10%) 2.5297\n",
            "0m 47s (15000 15%) 2.2971\n",
            "1m 3s (20000 20%) 2.0926\n",
            "1m 19s (25000 25%) 2.2893\n",
            "1m 34s (30000 30%) 1.1759\n",
            "1m 50s (35000 35%) 2.8000\n",
            "2m 5s (40000 40%) 1.9567\n",
            "2m 22s (45000 45%) 2.3224\n",
            "2m 37s (50000 50%) 2.6686\n",
            "2m 52s (55000 55%) 2.2451\n",
            "3m 8s (60000 60%) 2.8258\n",
            "3m 24s (65000 65%) 2.2648\n",
            "3m 39s (70000 70%) 2.1794\n",
            "3m 55s (75000 75%) 1.9633\n",
            "4m 11s (80000 80%) 2.8018\n",
            "4m 27s (85000 85%) 2.0062\n",
            "4m 42s (90000 90%) 2.0739\n",
            "4m 58s (95000 95%) 1.8605\n",
            "5m 14s (100000 100%) 2.6454\n"
          ]
        }
      ],
      "source": [
        "rnn = RNN(n_letters, 128, n_letters)\n",
        "\n",
        "n_iters = 100000\n",
        "print_every = 5000\n",
        "plot_every = 500\n",
        "all_losses = []\n",
        "total_loss = 0 \n",
        "\n",
        "start = time.time()\n",
        "\n",
        "for iter in range(1, n_iters + 1):\n",
        "    output, loss = train(*randomTrainingExample())\n",
        "    total_loss += loss\n",
        "\n",
        "    if iter % print_every == 0:\n",
        "        print('%s (%d %d%%) %.4f' % (timeSince(start), iter, iter / n_iters * 100, loss))\n",
        "\n",
        "    if iter % plot_every == 0:\n",
        "        all_losses.append(total_loss / plot_every)\n",
        "        total_loss = 0"
      ]
    },
    {
      "cell_type": "markdown",
      "metadata": {
        "id": "jgOjyfVbqABq"
      },
      "source": [
        "### Kaybı görselleştirelim.\n",
        "\n",
        "\n"
      ]
    },
    {
      "cell_type": "code",
      "execution_count": 19,
      "metadata": {
        "id": "D8o93BD3qABq",
        "colab": {
          "base_uri": "https://localhost:8080/",
          "height": 282
        },
        "outputId": "c6266e39-e56c-457c-fb1e-6f6084438f49"
      },
      "outputs": [
        {
          "output_type": "execute_result",
          "data": {
            "text/plain": [
              "[<matplotlib.lines.Line2D at 0x7f305d2ae400>]"
            ]
          },
          "metadata": {},
          "execution_count": 19
        },
        {
          "output_type": "display_data",
          "data": {
            "text/plain": [
              "<Figure size 432x288 with 1 Axes>"
            ],
            "image/png": "[encoded data removed]"
          },
          "metadata": {
            "needs_background": "light"
          }
        }
      ],
      "source": [
        "import matplotlib.pyplot as plt\n",
        "\n",
        "plt.figure()\n",
        "plt.plot(all_losses)"
      ]
    },
    {
      "cell_type": "markdown",
      "metadata": {
        "id": "q3Qf_kguqABr"
      },
      "source": [
        "## Test edelim.\n",
        "\n",
        "Örneklemek için ağa bir veri veriyoruz ve bir sonrakinin ne olduğunu soruyoruz,\n",
        "bunu bir sonraki harf olarak girin ve EOS belirtecine kadar tekrarlayın.\n",
        "\n",
        "- input category, starting letter, ve empty hidden state için tensörler oluşturun\n",
        "- Başlangıç harfiyle bir ``output_name`` dizisi oluşturun\n",
        "- Maksimum çıkış uzunluğuna kadar,\n",
        "\n",
        "    - Geçerli veriyle ağı besleyin\n",
        "    - En yüksek çıkıştan bir sonraki harfi ve bir sonraki gizli durumu alın\n",
        "    - Harf EOS ise burada durun\n",
        "    - Normal bir harf ise ``output_name`` kısmına ekleyin ve devam edin\n",
        "\n",
        "- Sonra adımları tekrarlayın.\n",
        "\n",
        ".. Not::\n",
        "    Ağa bir başlangıç verisi vermek yerine, başka bir\n",
        "    strateji olarak, bir \"dizinin başlangıcı\" belirtecini dahil etmek olurdu.\n",
        "    Eğitim ve ağın kendi başlangıç harfini seçmesini sağlamış olurduk kısaca..\n",
        "\n",
        "\n"
      ]
    },
    {
      "cell_type": "code",
      "execution_count": 20,
      "metadata": {
        "id": "DcwfIJz_qABr",
        "colab": {
          "base_uri": "https://localhost:8080/"
        },
        "outputId": "db9fe4ab-3752-429d-b0e7-fa8cba268fc7"
      },
      "outputs": [
        {
          "output_type": "stream",
          "name": "stdout",
          "text": [
            "Roulan\n",
            "Uantan\n",
            "Sharavav\n",
            "Gelleng\n",
            "Eringer\n",
            "Romer\n",
            "Sarana\n",
            "Pares\n",
            "Arana\n",
            "Chung\n",
            "Hang\n",
            "Iun\n"
          ]
        }
      ],
      "source": [
        "max_length = 20\n",
        "\n",
        "# Bir kategoriden örnek ve başlangıç verisi.\n",
        "def sample(category, start_letter='A'):\n",
        "    with torch.no_grad():  # örneklemede geçmişi izlemeye gerek yok\n",
        "        category_tensor = categoryTensor(category)\n",
        "        input = inputTensor(start_letter)\n",
        "        hidden = rnn.initHidden()\n",
        "\n",
        "        output_name = start_letter\n",
        "\n",
        "        for i in range(max_length):\n",
        "            output, hidden = rnn(category_tensor, input[0], hidden)\n",
        "            topv, topi = output.topk(1)\n",
        "            topi = topi[0][0]\n",
        "            if topi == n_letters - 1:\n",
        "                break\n",
        "            else:\n",
        "                letter = all_letters[topi]\n",
        "                output_name += letter\n",
        "            input = inputTensor(letter)\n",
        "\n",
        "        return output_name\n",
        "\n",
        "# Bir kategoriden birden çok örnek ve birden çok başlangıç harfi alın\n",
        "def samples(category, start_letters='ABC'):\n",
        "    for start_letter in start_letters:\n",
        "        print(sample(category, start_letter))\n",
        "\n",
        "samples('Russian', 'RUS')\n",
        "\n",
        "samples('German', 'GER')\n",
        "\n",
        "samples('Spanish', 'SPA')\n",
        "\n",
        "samples('Chinese', 'CHI')"
      ]
    }
  ],
  "metadata": {
    "kernelspec": {
      "display_name": "Python 3",
      "language": "python",
      "name": "python3"
    },
    "language_info": {
      "codemirror_mode": {
        "name": "ipython",
        "version": 3
      },
      "file_extension": ".py",
      "mimetype": "text/x-python",
      "name": "python",
      "nbconvert_exporter": "python",
      "pygments_lexer": "ipython3",
      "version": "3.10.9"
    },
    "colab": {
      "provenance": []
    }
  },
  "nbformat": 4,
  "nbformat_minor": 0
}