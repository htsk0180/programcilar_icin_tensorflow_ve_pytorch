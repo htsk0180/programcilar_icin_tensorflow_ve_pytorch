{
  "cells": [
    {
      "cell_type": "code",
      "execution_count": 1,
      "metadata": {
        "id": "loZN06c3m0yQ"
      },
      "outputs": [],
      "source": [
        "# Google Colab ile temel bilgilere aşina değilseniz bakınız:\n",
        "# https://pytorch.org/tutorials/beginner/colab\n",
        "%matplotlib inline"
      ]
    },
    {
      "cell_type": "markdown",
      "metadata": {
        "id": "UCF7xD6Vm0yX"
      },
      "source": [
        "\n",
        "# Reinforcement Learning (DQN) Tutorial\n",
        "\n",
        "Bu öğretici, Derin Q Öğrenme (DQN) aracısını eğitmek için PyTorch'un nasıl kullanılacağını gösterir.\n",
        "CartPole-v1 oyunu için: [Gymnasium](https://www.gymnasium.farama.org).\n",
        "\n",
        "**Görev**\n",
        "\n",
        "Temsilci iki eylem arasında karar vermelidir,Oyun şu şekilde olmalıdır. Direk dik dursun diye kendisini sağa ya da sola hareket ettirmelidir. Daha fazla çevre ve ortamlar hakkında bilgi için [Gymnasium's website](https://gymnasium.farama.org/environments/classic_control/cart_pole/).\n",
        "\n",
        "Genel mantık şöyledir:\n",
        "Ajan ortamın mevcut durumunu gözlemledikçe ve bir eylemi seçtikten sonra, ortam yeni bir duruma *geçiş yapar* ve ayrıca\n",
        "eylemin sonuçlarını gösteren bir ödül döndürür. Bunda\n",
        "görev, ödüller her artımlı zaman adımı ve ortam için +1'dir.\n",
        "Direk çok uzağa düşerse veya araba 2,4'ten fazla hareket ederse\n",
        "merkezden uzak birimler sona erer. Bu, daha iyi performans gösteren senaryoların çalışacağı anlamına gelir.\n",
        "\n",
        "CartPole görevinde, aracıya girişler 4 gerçek değer olacak şekilde tasarlanmıştır.\n",
        "Bunlar ortam durumunu temsil eden değerlerlerdir.\n",
        "Bu 4 girişi herhangi bir ölçekleme yapmadan alıp bir programdan geçiriyoruz.\n",
        "Her eylem için bir tane olmak üzere 2 çıkışlı küçük tam bağlantılı ağ kullanacağız.Ağa giriş durum verildikten sonra, her eylem için beklenen değeri tahmin edecek şekilde eğitilir.Dolayısıyla beklenen değeri en yüksek olan eylem\n",
        "seçilir.\n",
        "\n",
        "**Paketler**\n",
        "\n",
        "\n",
        "Öncelikle gerekli paketleri import edelim.\n",
        "[gymnasium](https://gymnasium.farama.org/)\n"
      ]
    },
    {
      "cell_type": "code",
      "execution_count": null,
      "metadata": {
        "id": "aKbWbQ9im0ya"
      },
      "outputs": [],
      "source": [
        "%%bash\n",
        "pip3 install gymnasium[classic_control]"
      ]
    },
    {
      "cell_type": "markdown",
      "metadata": {
        "id": "M_IEBa3sm0yb"
      },
      "source": [
        "PyTorch'tan aşağıdakileri de kullanacağız:\n",
        "\n",
        "-  neural networks (``torch.nn``)\n",
        "-  optimization (``torch.optim``)\n",
        "-  automatic differentiation (``torch.autograd``)\n"
      ]
    },
    {
      "cell_type": "code",
      "execution_count": 3,
      "metadata": {
        "id": "OUQMTBGdm0yd"
      },
      "outputs": [],
      "source": [
        "import gymnasium as gym\n",
        "import math\n",
        "import random\n",
        "import matplotlib\n",
        "import matplotlib.pyplot as plt\n",
        "from collections import namedtuple, deque\n",
        "from itertools import count\n",
        "\n",
        "import torch\n",
        "import torch.nn as nn\n",
        "import torch.optim as optim\n",
        "import torch.nn.functional as F\n",
        "\n",
        "env = gym.make(\"CartPole-v1\")\n",
        "\n",
        "# matplotlib için\n",
        "is_ipython = 'inline' in matplotlib.get_backend()\n",
        "if is_ipython:\n",
        "    from IPython import display\n",
        "\n",
        "plt.ion()\n",
        "\n",
        "# eğer gpu kullanıyorsak\n",
        "device = torch.device(\"cuda\" if torch.cuda.is_available() else \"cpu\")"
      ]
    },
    {
      "cell_type": "markdown",
      "metadata": {
        "id": "hwDaVJZgm0yf"
      },
      "source": [
        "## Replay Memory - Tekrar Belleği\n",
        "\n",
        "DQN'mizi eğitmek için deneyim dediğimiz tekrar belleğini kullanacağız. Bu bellek aracının gözlemlediği geçişler depolar, bu verileri yeniden kullanmamıza izin verir.\n",
        "Daha sonra rastgele örnekleme yaparak, bir yapı oluşturan geçişler\n",
        "parti ilişkisizdir. Bunun büyük ölçüde stabilize olduğu gösterilmiştir.\n",
        "ve DQN eğitim prosedürünü geliştirir.\n",
        "\n",
        "Bunun için iki sınıfa ihtiyacımız olacak:\n",
        "\n",
        "-  ``Transition`` - Tek bir geçişi temsil eden adlandırılmış bir demet\n",
        "çevremiz. Temelde (durum, eylem) çiftlerini eşler\n",
        "(sonraki_durum, ödül) sonucuna göre\n",
        "-  ``ReplayMemory`` - \n",
        "Son zamanlarda gözlemlenen geçişleri tutan sınırlı boyutta döngüsel bir arabellektir. Ayrıca bir ``.sample()`` metodu uygular. Bu metod eğitim için rastgele bir geçiş partisi seçme yöntemidir..\n",
        "\n",
        "\n"
      ]
    },
    {
      "cell_type": "code",
      "execution_count": 4,
      "metadata": {
        "id": "hig6Nz4nm0yg"
      },
      "outputs": [],
      "source": [
        "Transition = namedtuple('Transition',\n",
        "                        ('state', 'action', 'next_state', 'reward'))\n",
        "\n",
        "\n",
        "class ReplayMemory(object):\n",
        "\n",
        "    def __init__(self, capacity):\n",
        "        self.memory = deque([], maxlen=capacity)\n",
        "\n",
        "    def push(self, *args):\n",
        "        \"\"\"Bir geçişi kaydet\"\"\"\n",
        "        self.memory.append(Transition(*args))\n",
        "\n",
        "    def sample(self, batch_size):\n",
        "        return random.sample(self.memory, batch_size)\n",
        "\n",
        "    def __len__(self):\n",
        "        return len(self.memory)"
      ]
    },
    {
      "cell_type": "markdown",
      "metadata": {
        "id": "bd7US_USm0yh"
      },
      "source": [
        "Şimdi modelimizi tanımlayalım. Ama önce, DQN'nin ne olduğunu hızlı bir şekilde özetleyelim.\n",
        "\n",
        "## DQN algorithm\n",
        "\n",
        "Çevremiz deterministik olduğundan, burada sunulan tüm denklemler basitlik adına deterministik olarak formüle edilmiştir. Ortamdaki stokastik geçişler üzerinde, içinde pekiştirmeli öğrenme literatürü, beklentileri de içerecektir.\n",
        "\n",
        "Amacımız bu fonksiyonu ( kümülatif ödül ) maksimize etmeye çalışan bir politika yetiştirmek olacaktır:\n",
        "$R_{t_0} = \\sum_{t=t_0}^{\\infty} \\gamma^{t - t_0} r_t$, \n",
        "$R_{t_0}$ *dönüş* olarak da bilinir. Gama değeri olan\n",
        "$\\gamma$, $0$ ve $1$ arasında sabit olmalıdır.\n",
        "Bu toplam ödülün yakınsamasını sağlar. Daha düşük $\\gamma$ temsilcimizin uzaktan gelen ödülleri daha az önemli, yakından gelen ödülleri ise oldukça emin olarak değerlendireceği anlamına gelir. Yani ajanlarımızı daha yakın zamanda ödül toplamaya teşvik eder.\n",
        "\n",
        "Q-learning'in arkasındaki ana fikir şudur. Bu bizim için bir fonksiyon olsaydı.\n",
        "$Q^*: State \\times Action \\rightarrow \\mathbb{R}$, eğer belirli bir eylemde bulunacak olsaydık (durum), geri dönüşümüzün ne olacağını bize ödüller söylerdi. Bİzde bundan yola çkarak bizim değerlerimizi maksimize eden bir politika oluşturabiliriz.\n",
        "\n",
        "\\begin{align}\\pi^*(s) = \\arg\\!\\max_a \\ Q^*(s, a)\\end{align}\n",
        "\n",
        "$Q^*$ değerine tam olarak erişimimiz yoktur. Çünkü dünya hakkında her şeyi bilmiyoruz. Ancak sinir ağları evrensel bir işlev olduğundan, basitçe bir tane\n",
        "$Q^*$ değerini oluşturup gerçek dünyadakine benzer şekilde eğitebiliriz.\n",
        "\n",
        "Her $Q$ değerini güncelleyecek eğitim kuralımız için \n",
        "Bellman denklemini uygularız.\n",
        "\n",
        "\\begin{align}Q^{\\pi}(s, a) = r + \\gamma Q^{\\pi}(s', \\pi(s'))\\end{align}\n",
        "\n",
        "$\\delta$ eşitliğin iki tarafı arasındaki zaman farkı hatasıdır.\n",
        "\n",
        "\\begin{align}\\delta = Q(s, a) - (r + \\gamma \\max_a' Q(s', a))\\end{align}\n",
        "\n",
        "Bu hatayı en aza indirmek amacıyla [Huber\n",
        "loss](https://en.wikipedia.org/wiki/Huber_loss) adı altında bir loss fonksiyonu kullanacağız. Ortalama kare hatasına benzer , ancak daha gürültülü değerler arasında daha stabil çalışır.\n",
        "\n",
        "\\begin{align}\\mathcal{L} = \\frac{1}{|B|}\\sum_{(s, a, s', r) \\ \\in \\ B} \\mathcal{L}(\\delta)\\end{align}\n",
        "\n",
        "\\begin{align}\\text{where} \\quad \\mathcal{L}(\\delta) = \\begin{cases}\n",
        "     \\frac{1}{2}{\\delta^2}  & \\text{for } |\\delta| \\le 1, \\\\\n",
        "     |\\delta| - \\frac{1}{2} & \\text{otherwise.}\n",
        "   \\end{cases}\\end{align}\n",
        "\n",
        "### Q-network\n",
        "\n",
        "Modelimiz, ileri beslemeli bir sinir ağı olacaktır. İki tane çıkışımız olacaktır. ( $Q(s, \\mathrm{left})$ temsil edilen ve\n",
        "$Q(s, \\mathrm{right})$ ), (burada $s$ ağa girdidir.).\n",
        "Aslında ağımız, geçerli girdisi verilen her eylemi gerçekleştirmek için *beklenen getiriyi* tahmin etmeye çalışıyor.\n",
        "\n",
        "\n"
      ]
    },
    {
      "cell_type": "code",
      "execution_count": 5,
      "metadata": {
        "id": "rLMzOeynm0yj"
      },
      "outputs": [],
      "source": [
        "class DQN(nn.Module):\n",
        "\n",
        "    def __init__(self, n_observations, n_actions):\n",
        "        super(DQN, self).__init__()\n",
        "        self.layer1 = nn.Linear(n_observations, 128)\n",
        "        self.layer2 = nn.Linear(128, 128)\n",
        "        self.layer3 = nn.Linear(128, n_actions)\n",
        "\n",
        "    # Bir sonraki eylemi belirlemek için bir öğeyle veya toplu olarak çağrılır\n",
        "    # Optimizasyon sırasında tensor([[left0exp,right0exp]]) ünü döndürür\n",
        "    def forward(self, x):\n",
        "        x = F.relu(self.layer1(x))\n",
        "        x = F.relu(self.layer2(x))\n",
        "        return self.layer3(x)"
      ]
    },
    {
      "cell_type": "markdown",
      "metadata": {
        "id": "jS-2siDtm0yk"
      },
      "source": [
        "## Eğitim\n",
        "\n",
        "### Hiperparametreler ve yardımcı programlar\n",
        "\n",
        "-  ``select_action`` - bir epsilon değerine göre açgözlü eylem politikası seçecek . Basitçe söylemek gerekirse bazen modelimizi eylem seçimi için kullanırız, ve bazende modelimizi sadece tek tip olarak örnekleyeceğiz. Rastgele bir eylem seçme olasılığı ``EPS_START`` ile başlayacak ve `EPS_END` e doğru katlanarak azalacaktır. ``EPS_DECAY``azalma oranını kontrol eder.\n",
        "-  ``plot_durations`` - bölümlerin sürelerini çizmek için yardımcı bir fonksiyon.\n",
        "\n",
        "\n"
      ]
    },
    {
      "cell_type": "code",
      "execution_count": null,
      "metadata": {
        "id": "UIDkdbXam0yl"
      },
      "outputs": [],
      "source": [
        "# BATCH_SIZE tekrar arabelleğinden örneklenen geçişlerin sayısıdır\n",
        "# GAMMA önceki bölümde belirtildiği gibi iskonto faktörüdür\n",
        "# EPS_START epsilonun başlangıç değeridir\n",
        "# EPS_END epsilonun son değeridir\n",
        "# EPS_DECAY epsilonun üstel bozulma oranını kontrol eder, daha yüksek, daha yavaş bir bozulma anlamına gelir\n",
        "# TAU hedef ağın güncelleme oranıdır\n",
        "# LR Adam optimize edicinin öğrenme oranıdır\n",
        "BATCH_SIZE = 128\n",
        "GAMMA = 0.99\n",
        "EPS_START = 0.9\n",
        "EPS_END = 0.05\n",
        "EPS_DECAY = 1000\n",
        "TAU = 0.005\n",
        "LR = 1e-4\n",
        "\n",
        "# gym den eylem sayısını alalım\n",
        "n_actions = env.action_space.n\n",
        "# durum gözlemlerinin sayısını alın\n",
        "state, info = env.reset()\n",
        "n_observations = len(state)\n",
        "\n",
        "policy_net = DQN(n_observations, n_actions).to(device)\n",
        "target_net = DQN(n_observations, n_actions).to(device)\n",
        "target_net.load_state_dict(policy_net.state_dict())\n",
        "\n",
        "optimizer = optim.AdamW(policy_net.parameters(), lr=LR, amsgrad=True)\n",
        "memory = ReplayMemory(10000)\n",
        "\n",
        "\n",
        "steps_done = 0\n",
        "\n",
        "\n",
        "def select_action(state):\n",
        "    global steps_done\n",
        "    sample = random.random()\n",
        "    eps_threshold = EPS_END + (EPS_START - EPS_END) * \\\n",
        "        math.exp(-1. * steps_done / EPS_DECAY)\n",
        "    steps_done += 1\n",
        "    if sample > eps_threshold:\n",
        "        with torch.no_grad():\n",
        "            # t.max(1) her satırın en büyük sütun değerini döndürür.\n",
        "            # max sonuçtaki ikinci sütun, max öğesinin bulunduğu dizindir, bu nedenle daha büyük beklenen ödülle eylemi seçeriz.\n",
        "            return policy_net(state).max(1)[1].view(1, 1)\n",
        "    else:\n",
        "        return torch.tensor([[env.action_space.sample()]], device=device, dtype=torch.long)\n",
        "\n",
        "\n",
        "episode_durations = []\n",
        "\n",
        "\n",
        "def plot_durations(show_result=False):\n",
        "    plt.figure(1)\n",
        "    durations_t = torch.tensor(episode_durations, dtype=torch.float)\n",
        "    if show_result:\n",
        "        plt.title('Sonuç')\n",
        "    else:\n",
        "        plt.clf()\n",
        "        plt.title('Eğitim...')\n",
        "    plt.xlabel('Episode')\n",
        "    plt.ylabel('Süre')\n",
        "    plt.plot(durations_t.numpy())\n",
        "    # 100 bölüm ortalamasını alın ve onları da çizin\n",
        "    if len(durations_t) >= 100:\n",
        "        means = durations_t.unfold(0, 100, 1).mean(1).view(-1)\n",
        "        means = torch.cat((torch.zeros(99), means))\n",
        "        plt.plot(means.numpy())\n",
        "\n",
        "    plt.pause(0.001)  # Grafiklerin güncellenmesi için biraz duraklatın\n",
        "    if is_ipython:\n",
        "        if not show_result:\n",
        "            display.display(plt.gcf())\n",
        "            display.clear_output(wait=True)\n",
        "        else:\n",
        "            display.display(plt.gcf())"
      ]
    },
    {
      "cell_type": "markdown",
      "metadata": {
        "id": "dsPHMWptm0yn"
      },
      "source": [
        "### Eğitim döngüsü\n",
        "\n",
        "Son olarak, modelimizi eğitme kodumuz şu şekilde olacaktır.\n",
        "\n",
        "Burada optimizasyon adımımız``optimize_model`` işlevi ile yapılır.\n",
        "Önce girdi olarak alınan örnekler,tensörler şeklinde tek bir tensörde birleştirir, bu değerler hesaplanırlar $Q(s_t, a_t)$ ve\n",
        "$V(s_{t+1}) = \\max_a Q(s_{t+1}, a)$\n",
        "Sonrak kaybımız hesaplanır. \n",
        "Tanım olarak bu fonksiyon ayarlandı. $V(s) = 0$, $s$ bu durumun bir göstergesidir.$V(s_{t+1})$ hedefini hesaplamak için ağı kuruyoruz ve hedef ağı her adımda güncelliyoruz.\n",
        "[soft update](https://arxiv.org/pdf/1509.02971.pdf) burdaki yöntem için güncelleme büyüklüğü hiper parametre olan ``TAU`` ile kontrol edilir.\n",
        "\n",
        "\n"
      ]
    },
    {
      "cell_type": "code",
      "execution_count": null,
      "metadata": {
        "id": "-1zlq2cKm0yo"
      },
      "outputs": [],
      "source": [
        "def optimize_model():\n",
        "    if len(memory) < BATCH_SIZE:\n",
        "        return\n",
        "    transitions = memory.sample(BATCH_SIZE)\n",
        "    # batch'leri dönüştürüyoruz. https://stackoverflow.com/a/19343/3343043\n",
        "    batch = Transition(*zip(*transitions))\n",
        "\n",
        "    # Nihai olmayan durumların bir maskesini hesaplayın ve toplu iş öğelerini birleştirin\n",
        "    # (son durum, simülasyonun sona erdiği durum olurdu)\n",
        "    non_final_mask = torch.tensor(tuple(map(lambda s: s is not None,\n",
        "                                          batch.next_state)), device=device, dtype=torch.bool)\n",
        "    non_final_next_states = torch.cat([s for s in batch.next_state\n",
        "                                                if s is not None])\n",
        "    state_batch = torch.cat(batch.state)\n",
        "    action_batch = torch.cat(batch.action)\n",
        "    reward_batch = torch.cat(batch.reward)\n",
        "\n",
        "    # Q(s_t, a) hesaplanması - model Q(s_t)'yi hesaplar, \n",
        "    # ardından gerçekleştirilen eylemlerin sütunlarını seçeriz. \n",
        "    # Bunlar, Policy_net'e göre her parti durumu için gerçekleştirilecek eylemlerdir.\n",
        "    state_action_values = policy_net(state_batch).gather(1, action_batch)\n",
        "\n",
        "    # Sonraki tüm durumlar için V(s_{t+1}) hesaplayın.\n",
        "    # non_final_next_states için beklenen eylem değerleri, \"eski\" target_net'e göre hesaplanır; max(1)[0] ile en iyi ödülleri seçeriz.\n",
        "    # Bu, maskeye göre birleştirilir, öyle ki, ya beklenen durum değerine sahip oluruz ya da durumun nihai olması durumunda 0'a sahip oluruz.\n",
        "\n",
        "    next_state_values = torch.zeros(BATCH_SIZE, device=device)\n",
        "    with torch.no_grad():\n",
        "        next_state_values[non_final_mask] = target_net(non_final_next_states).max(1)[0]\n",
        "    # Beklenen Q değerlerini hesaplayın\n",
        "    expected_state_action_values = (next_state_values * GAMMA) + reward_batch\n",
        "\n",
        "    # Huber loss'u hesaplayalım.\n",
        "    criterion = nn.SmoothL1Loss()\n",
        "    loss = criterion(state_action_values, expected_state_action_values.unsqueeze(1))\n",
        "\n",
        "    # modeli optimize edelim.\n",
        "    optimizer.zero_grad()\n",
        "    loss.backward()\n",
        "    # In-place gradient clipping\n",
        "    torch.nn.utils.clip_grad_value_(policy_net.parameters(), 100)\n",
        "    optimizer.step()"
      ]
    },
    {
      "cell_type": "markdown",
      "metadata": {
        "id": "cer8Y68km0yp"
      },
      "source": [
        "Aşağıda, ana eğitim döngüsünü bulabilirsiniz. Başlangıçta ortamı sıfırlıyoruz ve ilk `state` Tensörünü elde ediyoruz. Ardından, bir eylemi örnekliyoruz, yürütüyoruz, bir sonraki durumu ve ödülü (her zaman 1) gözlemliyoruz ve modelimizi bir kez optimize ediyoruz. Bölüm sona erdiğinde (modelimiz başarısız olduğunda), döngüyü yeniden başlatırız.\n",
        "\n",
        "Aşağıda, `num_episodes`, GPU varsa 600'e, aksi halde 50'ye ayarlanmıştır.\n",
        "bölümler planlanmıştır, bu nedenle eğitim çok uzun sürmez. Ancak, 50\n",
        "bölümler, araba direğinde iyi performans gözlemlemek için yetersizdir.\n",
        "Modelin 600 eğitim içerisinde sürekli olarak 500 adıma ulaştığını görmelisiniz.\n",
        "RL temsilcilerinin eğitimi gürültülü bir süreç olabilir, bu nedenle eğitimi yeniden başlatmak\n",
        "yakınsama gözlenmezse daha iyi sonuçlar üretebilir.\n",
        "\n",
        "\n"
      ]
    },
    {
      "cell_type": "code",
      "execution_count": null,
      "metadata": {
        "id": "qtVbeu1im0yq"
      },
      "outputs": [],
      "source": [
        "if torch.cuda.is_available():\n",
        "    num_episodes = 600\n",
        "else:\n",
        "    num_episodes = 50\n",
        "\n",
        "for i_episode in range(num_episodes):\n",
        "    # Ortamı başlat ve durumunu al\n",
        "    state, info = env.reset()\n",
        "    state = torch.tensor(state, dtype=torch.float32, device=device).unsqueeze(0)\n",
        "    for t in count():\n",
        "        action = select_action(state)\n",
        "        observation, reward, terminated, truncated, _ = env.step(action.item())\n",
        "        reward = torch.tensor([reward], device=device)\n",
        "        done = terminated or truncated\n",
        "\n",
        "        if terminated:\n",
        "            next_state = None\n",
        "        else:\n",
        "            next_state = torch.tensor(observation, dtype=torch.float32, device=device).unsqueeze(0)\n",
        "\n",
        "        # Geçişi bellekte saklayın\n",
        "        memory.push(state, action, next_state, reward)\n",
        "\n",
        "        # Sonraki duruma git\n",
        "        state = next_state\n",
        "\n",
        "        # Optimizasyonun bir adımını gerçekleştirin \n",
        "        optimize_model()\n",
        "\n",
        "        # Hedef ağın ağırlıklarınınS güncellemesi\n",
        "        # θ′ ← τ θ + (1 −τ )θ′\n",
        "        target_net_state_dict = target_net.state_dict()\n",
        "        policy_net_state_dict = policy_net.state_dict()\n",
        "        for key in policy_net_state_dict:\n",
        "            target_net_state_dict[key] = policy_net_state_dict[key]*TAU + target_net_state_dict[key]*(1-TAU)\n",
        "        target_net.load_state_dict(target_net_state_dict)\n",
        "\n",
        "        if done:\n",
        "            episode_durations.append(t + 1)\n",
        "            plot_durations()\n",
        "            break\n",
        "\n",
        "print('TAMAMLANDI..!')\n",
        "plot_durations(show_result=True)\n",
        "plt.ioff()\n",
        "plt.show()"
      ]
    },
    {
      "cell_type": "markdown",
      "metadata": {
        "id": "5cWuMJ04m0yr"
      },
      "source": [
        "Genel veri akışını gösteren şema aşağıdadır.\n",
        "\n",
        "![reinforcement_learning_diagram.jpg](data:image/jpeg;base64,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)\n",
        "\n",
        "\n"
      ]
    }
  ],
  "metadata": {
    "kernelspec": {
      "display_name": "Python 3",
      "language": "python",
      "name": "python3"
    },
    "language_info": {
      "codemirror_mode": {
        "name": "ipython",
        "version": 3
      },
      "file_extension": ".py",
      "mimetype": "text/x-python",
      "name": "python",
      "nbconvert_exporter": "python",
      "pygments_lexer": "ipython3",
      "version": "3.10.9"
    },
    "colab": {
      "provenance": []
    },
    "accelerator": "GPU",
    "gpuClass": "standard"
  },
  "nbformat": 4,
  "nbformat_minor": 0
}